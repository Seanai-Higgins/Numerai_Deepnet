{
 "cells": [
  {
   "cell_type": "code",
   "execution_count": 1,
   "metadata": {},
   "outputs": [
    {
     "name": "stderr",
     "output_type": "stream",
     "text": [
      "C:\\Users\\Lemen\\Anaconda3\\envs\\Numerai_101\\lib\\site-packages\\h5py\\__init__.py:36: FutureWarning: Conversion of the second argument of issubdtype from `float` to `np.floating` is deprecated. In future, it will be treated as `np.float64 == np.dtype(float).type`.\n",
      "  from ._conv import register_converters as _register_converters\n",
      "Using TensorFlow backend.\n"
     ]
    }
   ],
   "source": [
    "import pandas as pd\n",
    "import numpy as np\n",
    "import matplotlib.pyplot as plt\n",
    "from keras import backend as K\n",
    "from keras.callbacks import ModelCheckpoint\n",
    "from keras.models import Model, load_model, Sequential\n",
    "from keras.layers import Dense, Reshape, Activation, Dropout, Input, BatchNormalization, Conv1D, SeparableConv1D\n",
    "from keras.layers import Conv2D, Flatten, AveragePooling1D, AveragePooling2D, Merge, Concatenate, Embedding, LSTM\n",
    "from keras.layers import add, concatenate, MaxPooling1D\n",
    "from keras.optimizers import Adam"
   ]
  },
  {
   "cell_type": "code",
   "execution_count": 22,
   "metadata": {},
   "outputs": [],
   "source": [
    "DATASETS_DIR = \"./datasets\"\n",
    "\n",
    "def fetch_df(dataset):\n",
    "    if dataset == 'training':\n",
    "        path = DATASETS_DIR + \"/numerai_training_data.csv\"\n",
    "    elif dataset == 'tournament':\n",
    "        path = DATASETS_DIR + \"/numerai_tournament_data.csv\"\n",
    "    return pd.read_csv(path)\n",
    "\n",
    "def targets(df):\n",
    "    \"\"\"Returns only the columns we use as features\"\"\"\n",
    "    return df.drop(['id', 'era', 'data_type', 'feature1', 'feature2', 'feature3', 'feature4', 'feature5', 'feature6', 'feature7', 'feature8', 'feature9', 'feature10',\n",
    "               'feature11', 'feature12', 'feature13', 'feature14', 'feature15', 'feature16', 'feature17', 'feature18', 'feature19',\n",
    "               'feature20', 'feature21', 'feature22', 'feature23', 'feature24', 'feature25', 'feature26', 'feature27', 'feature28',\n",
    "               'feature29', 'feature30', 'feature31', 'feature32', 'feature33', 'feature34', 'feature35', 'feature36', 'feature37',\n",
    "               'feature38', 'feature39', 'feature40', 'feature41', 'feature42', 'feature43', 'feature44', 'feature45', 'feature46',\n",
    "               'feature47', 'feature48', 'feature49', 'feature50'], axis=1).values\n",
    "\n",
    "def features(df):\n",
    "    \"\"\"Returns only the columns we use as targets\"\"\"\n",
    "    return df.drop(['id', 'era', 'data_type', 'target_bernie', 'target_charles', 'target_elizabeth', \n",
    "                    'target_jordan', 'target_ken'], axis=1).values\n",
    "\n",
    "def training_set():\n",
    "    df = fetch_df('training')\n",
    "    eras = df[\"era\"].map(lambda x: int(x[3:])).values\n",
    "    X = features(df)\n",
    "    y = targets(df)\n",
    "    return eras, X, y\n",
    "\n",
    "def tournament_set(data_type=None):\n",
    "    df = fetch_df('tournament')\n",
    "    if data_type is not None:\n",
    "        df = df[df['data_type'] == data_type]\n",
    "    ids = df['id'].values\n",
    "    X = features(df)\n",
    "    y = targets(df)\n",
    "    return ids, X, y\n",
    "\n",
    "def test_set():\n",
    "    return tournament_set('test')\n",
    "\n",
    "def validation_set():\n",
    "    return tournament_set('validation')\n",
    "\n",
    "def live_set():\n",
    "    return tournament_set('live')"
   ]
  },
  {
   "cell_type": "code",
   "execution_count": 23,
   "metadata": {},
   "outputs": [],
   "source": [
    "_, X, Y = training_set()\n",
    "val_ids, X_val, Y_val = validation_set()"
   ]
  },
  {
   "cell_type": "code",
   "execution_count": 24,
   "metadata": {},
   "outputs": [],
   "source": [
    "def base64(block_input):\n",
    "    base_input = Input(shape=block_input)\n",
    "    dense14 = Dense(14)(base_input)\n",
    "    concat1 = concatenate([base_input,dense14])\n",
    "    return base_input, concat1"
   ]
  },
  {
   "cell_type": "code",
   "execution_count": 25,
   "metadata": {},
   "outputs": [],
   "source": [
    "layer1in, layer1out1 = base64((50,))"
   ]
  },
  {
   "cell_type": "code",
   "execution_count": 26,
   "metadata": {},
   "outputs": [],
   "source": [
    "def block01(block_input):\n",
    "    \n",
    "    reshape1 = Reshape((2**4,2**2),input_shape=(2**6,))(block_input) \n",
    "    conv1 = Conv1D(2**2, 1+2**1, padding='same', activation='relu')(reshape1)\n",
    "    flatten01 = Flatten()(conv1)  \n",
    "    \n",
    "    dense1 = Dense(2**6, activation='relu')(flatten01)\n",
    "      \n",
    "    dropout1 = Dropout(1/2**2)(dense1)\n",
    "    batchnorm1 = BatchNormalization(axis=-1)(dropout1)\n",
    "    \n",
    "    return batchnorm1"
   ]
  },
  {
   "cell_type": "code",
   "execution_count": 28,
   "metadata": {},
   "outputs": [],
   "source": [
    "layers = []\n",
    "layers.append(block01(layer1out1))\n",
    "\n",
    "for i in range(0, 5):\n",
    "    layer = block01(layers[i])\n",
    "    layers.append(layer)\n",
    "finallayer = Dense(5, activation='sigmoid')(layers[-1])"
   ]
  },
  {
   "cell_type": "code",
   "execution_count": 29,
   "metadata": {},
   "outputs": [],
   "source": [
    "model = Model(inputs=layer1in, outputs = finallayer)"
   ]
  },
  {
   "cell_type": "code",
   "execution_count": 30,
   "metadata": {},
   "outputs": [],
   "source": [
    "#model.summary()"
   ]
  },
  {
   "cell_type": "code",
   "execution_count": 31,
   "metadata": {},
   "outputs": [],
   "source": [
    "opt = Adam(lr=0.0003)\n",
    "model.compile(loss='binary_crossentropy', optimizer=opt, metrics=[\"accuracy\"])"
   ]
  },
  {
   "cell_type": "code",
   "execution_count": null,
   "metadata": {},
   "outputs": [],
   "source": [
    "history = model.fit(X, Y, batch_size = 2**10, epochs=70, initial_epoch=0, validation_data=(X_val,Y_val))"
   ]
  },
  {
   "cell_type": "code",
   "execution_count": null,
   "metadata": {},
   "outputs": [],
   "source": [
    "loss, acc = model.evaluate(X, Y)\n",
    "print(\"Accuracy = \", acc)\n",
    "print(\"Logloss = \", loss)"
   ]
  },
  {
   "cell_type": "code",
   "execution_count": null,
   "metadata": {},
   "outputs": [],
   "source": [
    "val_ids, X_val, Y_val = validation_set()\n",
    "loss_val, acc_val = model.evaluate(X_val, Y_val)\n",
    "print(\"Accuracy = \", acc_val)\n",
    "print(\"Logloss = \", loss_val)"
   ]
  },
  {
   "cell_type": "code",
   "execution_count": 33,
   "metadata": {},
   "outputs": [
    {
     "name": "stdout",
     "output_type": "stream",
     "text": [
      "dict_keys(['val_loss', 'val_acc', 'loss', 'acc'])\n"
     ]
    },
    {
     "data": {
      "image/png": "[encoded data removed]",
      "text/plain": [
       "<Figure size 432x288 with 1 Axes>"
      ]
     },
     "metadata": {},
     "output_type": "display_data"
    },
    {
     "data": {
      "image/png": "[encoded data removed]",
      "text/plain": [
       "<Figure size 432x288 with 1 Axes>"
      ]
     },
     "metadata": {},
     "output_type": "display_data"
    }
   ],
   "source": [
    "print(history.history.keys())\n",
    "# summarize history for accuracy\n",
    "plt.plot(history.history['acc'])\n",
    "plt.plot(history.history['val_acc'])\n",
    "plt.title('model accuracy')\n",
    "plt.ylabel('accuracy')\n",
    "plt.xlabel('epoch')\n",
    "plt.legend(['train', 'validation'], loc='upper left')\n",
    "plt.show()\n",
    "# summarize history for loss\n",
    "plt.plot(history.history['loss'])\n",
    "plt.plot(history.history['val_loss'])\n",
    "plt.title('model loss')\n",
    "plt.ylabel('loss')\n",
    "plt.xlabel('epoch')\n",
    "plt.legend(['train', 'validation'], loc='upper left')\n",
    "plt.show()"
   ]
  },
  {
   "cell_type": "code",
   "execution_count": 34,
   "metadata": {},
   "outputs": [],
   "source": [
    "tournament_ids, Xtournament, _ = tournament_set()\n",
    "ytournament = model.predict(Xtournament)"
   ]
  },
  {
   "cell_type": "code",
   "execution_count": 39,
   "metadata": {},
   "outputs": [
    {
     "data": {
      "text/plain": [
       "0.49649447"
      ]
     },
     "execution_count": 39,
     "metadata": {},
     "output_type": "execute_result"
    }
   ],
   "source": [
    "ytournament[0][2]\n",
    "#ytournament = ytournament[:,0]"
   ]
  },
  {
   "cell_type": "code",
   "execution_count": null,
   "metadata": {},
   "outputs": [],
   "source": [
    "predictions_df = pd.DataFrame(data={'id':tournament_ids, 'probability':ytournament})\n",
    "predictions_df.to_csv('predictions.csv', index=False)\n",
    "predictions_df.head()\n",
    "print(predictions_df.shape)"
   ]
  },
  {
   "cell_type": "code",
   "execution_count": 100,
   "metadata": {},
   "outputs": [],
   "source": [
    "bernie = np.zeros((ytournament.shape[0]))\n",
    "charles = np.zeros((ytournament.shape[0]))\n",
    "elizabeth = np.zeros((ytournament.shape[0]))\n",
    "jordan = np.zeros((ytournament.shape[0]))\n",
    "ken = np.zeros((ytournament.shape[0]))\n",
    "for i in range(len(ytournament)):\n",
    "    bernie[i] = ytournament[i][0]\n",
    "    charles[i] = ytournament[i][1]\n",
    "    elizabeth[i] = ytournament[i][2]\n",
    "    jordan[i] = ytournament[i][3]\n",
    "    ken[i] = ytournament[i][4]"
   ]
  },
  {
   "cell_type": "code",
   "execution_count": 101,
   "metadata": {},
   "outputs": [],
   "source": [
    "list = []\n",
    "list.append(bernie)\n",
    "list.append(charles)\n",
    "list.append(elizabeth)\n",
    "list.append(jordan)\n",
    "list.append(ken)"
   ]
  },
  {
   "cell_type": "code",
   "execution_count": null,
   "metadata": {},
   "outputs": [],
   "source": [
    "targets = ('target_bernie', 'target_charles', 'target_elizabeth', 'target_jordan', 'target_ken')\n",
    "names = ('bernie', 'charles', 'elizabeth', 'jordan', 'ken')\n",
    "for i in range(ytournament.shape[1]):\n",
    "    predictions_df = pd.DataFrame(data={'id':tournament_ids, 'probability_'+names[i]:list[i]})\n",
    "    predictions_df.to_csv(targets[i] + '_predictions.csv', index=False)\n",
    "    predictions_df.head()\n",
    "    print(predictions_df.shape)"
   ]
  }
 ],
 "metadata": {
  "kernelspec": {
   "display_name": "Python 3",
   "language": "python",
   "name": "python3"
  },
  "language_info": {
   "codemirror_mode": {
    "name": "ipython",
    "version": 3
   },
   "file_extension": ".py",
   "mimetype": "text/x-python",
   "name": "python",
   "nbconvert_exporter": "python",
   "pygments_lexer": "ipython3",
   "version": "3.6.5"
  }
 },
 "nbformat": 4,
 "nbformat_minor": 2
}
