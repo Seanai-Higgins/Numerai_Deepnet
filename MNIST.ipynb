{
 "cells": [
  {
   "cell_type": "code",
   "execution_count": 1,
   "metadata": {},
   "outputs": [
    {
     "name": "stderr",
     "output_type": "stream",
     "text": [
      "Using TensorFlow backend.\n"
     ]
    }
   ],
   "source": [
    "import pandas as pd\n",
    "import numpy as np\n",
    "import matplotlib.pyplot as plt\n",
    "from keras import backend as K\n",
    "from keras.callbacks import ModelCheckpoint\n",
    "from keras.models import Model, load_model, Sequential\n",
    "from keras.layers import Dense, Reshape, Activation, Dropout, Input, BatchNormalization, Conv1D, SeparableConv1D\n",
    "from keras.layers import Conv2D, Flatten, AveragePooling1D, AveragePooling2D, Concatenate, Embedding, LSTM\n",
    "from keras.layers import add, concatenate, MaxPooling1D\n",
    "from keras.optimizers import Adam\n",
    "from keras.utils import np_utils\n",
    "from keras.datasets import mnist"
   ]
  },
  {
   "cell_type": "code",
   "execution_count": 2,
   "metadata": {},
   "outputs": [],
   "source": [
    "def training_set():\n",
    "    (X, Y), _ = mnist.load_data()\n",
    "    X = X.reshape((X.shape[0], X.shape[1] * X.shape[2]))   \n",
    "    Y = np_utils.to_categorical(Y)\n",
    "    return X, Y\n",
    "\n",
    "def validation_set():\n",
    "    _, (X, Y) = mnist.load_data()\n",
    "    X = X.reshape((X.shape[0], X.shape[1] * X.shape[2]))   \n",
    "    Y = np_utils.to_categorical(Y)\n",
    "    return X, Y"
   ]
  },
  {
   "cell_type": "code",
   "execution_count": 3,
   "metadata": {},
   "outputs": [],
   "source": [
    "X, Y = training_set()\n",
    "X_val, Y_val = validation_set()"
   ]
  },
  {
   "cell_type": "code",
   "execution_count": 4,
   "metadata": {},
   "outputs": [
    {
     "name": "stdout",
     "output_type": "stream",
     "text": [
      "(60000, 784)\n",
      "(60000, 10)\n",
      "(10000, 784)\n",
      "(10000, 10)\n"
     ]
    }
   ],
   "source": [
    "print(X.shape)\n",
    "print(Y.shape)\n",
    "print(X_val.shape)\n",
    "print(Y_val.shape)"
   ]
  },
  {
   "cell_type": "code",
   "execution_count": 5,
   "metadata": {},
   "outputs": [],
   "source": [
    "def input_block(block_input):\n",
    "    base_input = Input(shape=block_input)\n",
    "    return base_input"
   ]
  },
  {
   "cell_type": "code",
   "execution_count": 6,
   "metadata": {},
   "outputs": [],
   "source": [
    "def base_block(block_input):\n",
    "    dense32 = Dense(2**5)(block_input)\n",
    "    return dense32"
   ]
  },
  {
   "cell_type": "code",
   "execution_count": 7,
   "metadata": {},
   "outputs": [],
   "source": [
    "input_layer = input_block((X.shape[1],))\n",
    "layer1out = base_block(input_layer)\n",
    "layer2out = base_block(input_layer)\n",
    "layer3out = base_block(input_layer)\n",
    "layer4out = base_block(input_layer)"
   ]
  },
  {
   "cell_type": "code",
   "execution_count": 8,
   "metadata": {},
   "outputs": [
    {
     "data": {
      "text/plain": [
       "TensorShape([Dimension(None), Dimension(32)])"
      ]
     },
     "execution_count": 8,
     "metadata": {},
     "output_type": "execute_result"
    }
   ],
   "source": [
    "layer1out.shape"
   ]
  },
  {
   "cell_type": "code",
   "execution_count": 9,
   "metadata": {},
   "outputs": [],
   "source": [
    "def block01(b1_input, b2_input):\n",
    "\n",
    "    base_input = b1_input\n",
    "    block_input = b2_input\n",
    "    \n",
    "    concat01 = concatenate([base_input,block_input])\n",
    "    r1 = Reshape((2**3,2**3),input_shape=(2**6,))(concat01)    \n",
    "    pool01 = MaxPooling1D()(r1)\n",
    "    \n",
    "    conv03 = Conv1D(2**3, 1+2**1, padding='same', activation='relu')(pool01)\n",
    "    conv13 = Conv1D(2**3, 1+2**1, padding='same', activation='relu')(conv03)\n",
    "    conv23 = Conv1D(2**3, 1+2**1, padding='same', activation='relu')(conv13)\n",
    "\n",
    "    dense01 = Dense(2**3, activation='relu')(pool01)\n",
    "\n",
    "    concat01 = concatenate([conv23, dense01])\n",
    "    flatten01 = Flatten()(concat01)\n",
    "    dropout01 = Dropout(2**5/2**7)(flatten01)\n",
    "    dense02 = Dense(2**4)(dropout01)\n",
    "    batchnorm01 = BatchNormalization(axis=-1)(dense02)\n",
    "    \n",
    "    return batchnorm01"
   ]
  },
  {
   "cell_type": "code",
   "execution_count": 10,
   "metadata": {},
   "outputs": [],
   "source": [
    "def block4i(b1_input, b2_input, b3_input, b4_input):\n",
    "\n",
    "    concat01 = concatenate([b1_input, b2_input, b3_input, b4_input])\n",
    "    r1 = Reshape((2**3,2**3),input_shape=(2**6,))(concat01)    \n",
    "    pool01 = MaxPooling1D()(r1)\n",
    "    \n",
    "    conv03 = Conv1D(2**3, 1+2**1, padding='same', activation='relu')(pool01)\n",
    "    conv13 = Conv1D(2**3, 1+2**1, padding='same', activation='relu')(conv03)\n",
    "    conv23 = Conv1D(2**3, 1+2**1, padding='same', activation='relu')(conv13)\n",
    "\n",
    "    dense01 = Dense(2**3, activation='relu')(pool01)\n",
    "\n",
    "    concat01 = concatenate([conv23, dense01])\n",
    "    flatten01 = Flatten()(concat01)\n",
    "    dropout01 = Dropout(2**5/2**7)(flatten01)\n",
    "    dense02 = Dense(2**4)(dropout01)\n",
    "    batchnorm01 = BatchNormalization(axis=-1)(dense02)\n",
    "    \n",
    "    return batchnorm01"
   ]
  },
  {
   "cell_type": "code",
   "execution_count": 19,
   "metadata": {},
   "outputs": [],
   "source": [
    "layers = []\n",
    "layers.append(block01(layer1out, layer2out))\n",
    "layers.append(block01(layer2out, layer3out))\n",
    "layers.append(block01(layer3out, layer4out))\n",
    "layers.append(block01(layer4out, layer1out))\n",
    "\n",
    "for i in range(3, 20):\n",
    "    layer = block4i(layers[i-3], layers[i-2], layers[i-1], layers[i])\n",
    "    layers.append(layer)\n",
    "finallayer = Dense(10, activation='sigmoid')(layers[-1])"
   ]
  },
  {
   "cell_type": "code",
   "execution_count": 20,
   "metadata": {},
   "outputs": [],
   "source": [
    "model = Model(inputs=[input_layer], outputs = finallayer)"
   ]
  },
  {
   "cell_type": "code",
   "execution_count": null,
   "metadata": {},
   "outputs": [],
   "source": [
    "model.summary()"
   ]
  },
  {
   "cell_type": "code",
   "execution_count": 21,
   "metadata": {},
   "outputs": [],
   "source": [
    "opt = Adam(lr=0.0003)\n",
    "model.compile(loss='binary_crossentropy', optimizer=opt, metrics=[\"accuracy\"])"
   ]
  },
  {
   "cell_type": "code",
   "execution_count": 25,
   "metadata": {},
   "outputs": [
    {
     "name": "stdout",
     "output_type": "stream",
     "text": [
      "Train on 60000 samples, validate on 10000 samples\n",
      "Epoch 1/40\n",
      "60000/60000 [==============================] - 14s 236us/step - loss: 0.0077 - acc: 0.9985 - val_loss: 0.0268 - val_acc: 0.9950\n",
      "Epoch 2/40\n",
      "60000/60000 [==============================] - 14s 232us/step - loss: 0.0074 - acc: 0.9985 - val_loss: 0.0284 - val_acc: 0.9948\n",
      "Epoch 3/40\n",
      "60000/60000 [==============================] - 14s 235us/step - loss: 0.0077 - acc: 0.9985 - val_loss: 0.0282 - val_acc: 0.9948\n",
      "Epoch 4/40\n",
      "60000/60000 [==============================] - 16s 261us/step - loss: 0.0076 - acc: 0.9985 - val_loss: 0.0288 - val_acc: 0.9947\n",
      "Epoch 5/40\n",
      "60000/60000 [==============================] - 16s 263us/step - loss: 0.0078 - acc: 0.9984 - val_loss: 0.0291 - val_acc: 0.9946\n",
      "Epoch 6/40\n",
      "60000/60000 [==============================] - 16s 261us/step - loss: 0.0076 - acc: 0.9985 - val_loss: 0.0289 - val_acc: 0.9947\n",
      "Epoch 7/40\n",
      "60000/60000 [==============================] - 16s 260us/step - loss: 0.0078 - acc: 0.9984 - val_loss: 0.0284 - val_acc: 0.9950\n",
      "Epoch 8/40\n",
      "60000/60000 [==============================] - 16s 261us/step - loss: 0.0078 - acc: 0.9984 - val_loss: 0.0300 - val_acc: 0.9945\n",
      "Epoch 9/40\n",
      "60000/60000 [==============================] - 16s 261us/step - loss: 0.0075 - acc: 0.9984 - val_loss: 0.0296 - val_acc: 0.9945\n",
      "Epoch 10/40\n",
      "60000/60000 [==============================] - 16s 263us/step - loss: 0.0074 - acc: 0.9985 - val_loss: 0.0290 - val_acc: 0.9949\n",
      "Epoch 11/40\n",
      "60000/60000 [==============================] - 16s 261us/step - loss: 0.0071 - acc: 0.9986 - val_loss: 0.0288 - val_acc: 0.9949\n",
      "Epoch 12/40\n",
      "60000/60000 [==============================] - 16s 262us/step - loss: 0.0076 - acc: 0.9984 - val_loss: 0.0282 - val_acc: 0.9948\n",
      "Epoch 13/40\n",
      "60000/60000 [==============================] - 16s 266us/step - loss: 0.0071 - acc: 0.9985 - val_loss: 0.0286 - val_acc: 0.9949\n",
      "Epoch 14/40\n",
      "60000/60000 [==============================] - 16s 264us/step - loss: 0.0069 - acc: 0.9985 - val_loss: 0.0273 - val_acc: 0.9949\n",
      "Epoch 15/40\n",
      "60000/60000 [==============================] - 16s 262us/step - loss: 0.0066 - acc: 0.9987 - val_loss: 0.0287 - val_acc: 0.9947\n",
      "Epoch 16/40\n",
      "60000/60000 [==============================] - 16s 263us/step - loss: 0.0065 - acc: 0.9986 - val_loss: 0.0285 - val_acc: 0.9949\n",
      "Epoch 17/40\n",
      "60000/60000 [==============================] - 16s 264us/step - loss: 0.0063 - acc: 0.9987 - val_loss: 0.0297 - val_acc: 0.9947\n",
      "Epoch 18/40\n",
      "60000/60000 [==============================] - 16s 264us/step - loss: 0.0071 - acc: 0.9985 - val_loss: 0.0284 - val_acc: 0.9948\n",
      "Epoch 19/40\n",
      "60000/60000 [==============================] - 16s 265us/step - loss: 0.0065 - acc: 0.9987 - val_loss: 0.0285 - val_acc: 0.9950\n",
      "Epoch 20/40\n",
      "60000/60000 [==============================] - 16s 264us/step - loss: 0.0063 - acc: 0.9987 - val_loss: 0.0280 - val_acc: 0.9950\n",
      "Epoch 21/40\n",
      "60000/60000 [==============================] - 16s 267us/step - loss: 0.0062 - acc: 0.9987 - val_loss: 0.0293 - val_acc: 0.9950\n",
      "Epoch 22/40\n",
      "60000/60000 [==============================] - 16s 270us/step - loss: 0.0062 - acc: 0.9987 - val_loss: 0.0292 - val_acc: 0.9950\n",
      "Epoch 23/40\n",
      "60000/60000 [==============================] - 16s 265us/step - loss: 0.0062 - acc: 0.9987 - val_loss: 0.0277 - val_acc: 0.9950\n",
      "Epoch 24/40\n",
      "60000/60000 [==============================] - 16s 265us/step - loss: 0.0062 - acc: 0.9987 - val_loss: 0.0291 - val_acc: 0.9949\n",
      "Epoch 25/40\n",
      "60000/60000 [==============================] - 16s 265us/step - loss: 0.0065 - acc: 0.9986 - val_loss: 0.0278 - val_acc: 0.9951\n",
      "Epoch 26/40\n",
      "60000/60000 [==============================] - 16s 266us/step - loss: 0.0061 - acc: 0.9987 - val_loss: 0.0297 - val_acc: 0.9948\n",
      "Epoch 27/40\n",
      "60000/60000 [==============================] - 16s 266us/step - loss: 0.0061 - acc: 0.9987 - val_loss: 0.0294 - val_acc: 0.9949\n",
      "Epoch 28/40\n",
      "60000/60000 [==============================] - 16s 267us/step - loss: 0.0061 - acc: 0.9987 - val_loss: 0.0289 - val_acc: 0.9950\n",
      "Epoch 29/40\n",
      "60000/60000 [==============================] - 17s 287us/step - loss: 0.0054 - acc: 0.9988 - val_loss: 0.0290 - val_acc: 0.9950\n",
      "Epoch 30/40\n",
      "60000/60000 [==============================] - 19s 318us/step - loss: 0.0058 - acc: 0.9988 - val_loss: 0.0295 - val_acc: 0.9951\n",
      "Epoch 31/40\n",
      "60000/60000 [==============================] - 18s 306us/step - loss: 0.0058 - acc: 0.9988 - val_loss: 0.0294 - val_acc: 0.9950\n",
      "Epoch 32/40\n",
      "60000/60000 [==============================] - 18s 299us/step - loss: 0.0060 - acc: 0.9987 - val_loss: 0.0320 - val_acc: 0.9948\n",
      "Epoch 33/40\n",
      "60000/60000 [==============================] - 18s 302us/step - loss: 0.0070 - acc: 0.9985 - val_loss: 0.0308 - val_acc: 0.9948\n",
      "Epoch 34/40\n",
      "60000/60000 [==============================] - 18s 298us/step - loss: 0.0057 - acc: 0.9988 - val_loss: 0.0293 - val_acc: 0.9950\n",
      "Epoch 35/40\n",
      "60000/60000 [==============================] - 17s 277us/step - loss: 0.0053 - acc: 0.9989 - val_loss: 0.0311 - val_acc: 0.9948\n",
      "Epoch 36/40\n",
      "60000/60000 [==============================] - 17s 275us/step - loss: 0.0053 - acc: 0.9989 - val_loss: 0.0310 - val_acc: 0.9949\n",
      "Epoch 37/40\n",
      "60000/60000 [==============================] - 17s 275us/step - loss: 0.0055 - acc: 0.9988 - val_loss: 0.0289 - val_acc: 0.9951\n",
      "Epoch 38/40\n",
      "60000/60000 [==============================] - 17s 277us/step - loss: 0.0050 - acc: 0.9989 - val_loss: 0.0291 - val_acc: 0.9949\n",
      "Epoch 39/40\n",
      "60000/60000 [==============================] - 17s 282us/step - loss: 0.0053 - acc: 0.9988 - val_loss: 0.0290 - val_acc: 0.9950\n",
      "Epoch 40/40\n",
      "60000/60000 [==============================] - 19s 321us/step - loss: 0.0049 - acc: 0.9990 - val_loss: 0.0308 - val_acc: 0.9947\n"
     ]
    }
   ],
   "source": [
    "history = model.fit(X, Y, batch_size = 2**10, epochs=40, initial_epoch=0, validation_data=(X_val,Y_val))"
   ]
  },
  {
   "cell_type": "code",
   "execution_count": null,
   "metadata": {},
   "outputs": [],
   "source": [
    "Yp = np_utils.to_categorical(np.argmax(model.predict(X), 1))\n",
    "acc = 1 - np.average(np.abs(Yp-Y))\n",
    "print(acc)"
   ]
  },
  {
   "cell_type": "code",
   "execution_count": null,
   "metadata": {},
   "outputs": [],
   "source": [
    "Yp_val = np_utils.to_categorical(np.argmax(model.predict(X_val), 1))\n",
    "print(Yp_val.shape)\n",
    "acc1 = 1 - np.average(np.abs(Yp_val-Y_val))\n",
    "print(acc1)"
   ]
  },
  {
   "cell_type": "code",
   "execution_count": null,
   "metadata": {},
   "outputs": [],
   "source": [
    "loss, acc = model.evaluate(X, Y)\n",
    "print(\"Accuracy = \", acc)\n",
    "print(\"Logloss = \", loss)"
   ]
  },
  {
   "cell_type": "code",
   "execution_count": null,
   "metadata": {},
   "outputs": [],
   "source": [
    "loss_val, acc_val = model.evaluate(X_val, Y_val)\n",
    "print(\"Accuracy = \", acc_val)\n",
    "print(\"Logloss = \", loss_val)"
   ]
  },
  {
   "cell_type": "code",
   "execution_count": 24,
   "metadata": {},
   "outputs": [
    {
     "name": "stdout",
     "output_type": "stream",
     "text": [
      "dict_keys(['val_loss', 'val_acc', 'loss', 'acc'])\n"
     ]
    },
    {
     "data": {
      "image/png": "[encoded data removed]",
      "text/plain": [
       "<Figure size 432x288 with 1 Axes>"
      ]
     },
     "metadata": {},
     "output_type": "display_data"
    },
    {
     "data": {
      "image/png": "[encoded data removed]",
      "text/plain": [
       "<Figure size 432x288 with 1 Axes>"
      ]
     },
     "metadata": {},
     "output_type": "display_data"
    }
   ],
   "source": [
    "print(history.history.keys())\n",
    "# summarize history for accuracy\n",
    "plt.plot(history.history['acc'])\n",
    "plt.plot(history.history['val_acc'])\n",
    "plt.title('model accuracy')\n",
    "plt.ylabel('accuracy')\n",
    "plt.xlabel('epoch')\n",
    "plt.legend(['train', 'validation'], loc='upper left')\n",
    "plt.show()\n",
    "# summarize history for loss\n",
    "plt.plot(history.history['loss'])\n",
    "plt.plot(history.history['val_loss'])\n",
    "plt.title('model loss')\n",
    "plt.ylabel('loss')\n",
    "plt.xlabel('epoch')\n",
    "plt.legend(['train', 'validation'], loc='upper left')\n",
    "plt.show()"
   ]
  },
  {
   "cell_type": "code",
   "execution_count": null,
   "metadata": {},
   "outputs": [],
   "source": [
    "Yp = np_utils.to_categorical(np.argmax(model.predict(X), 1))"
   ]
  },
  {
   "cell_type": "code",
   "execution_count": null,
   "metadata": {},
   "outputs": [],
   "source": [
    "for i in range(0,10):\n",
    "    print(\"Example numero: \", i)\n",
    "    print(yp[i])\n",
    "    print(ypo[i])"
   ]
  },
  {
   "cell_type": "code",
   "execution_count": null,
   "metadata": {},
   "outputs": [],
   "source": [
    "ypo.shape"
   ]
  },
  {
   "cell_type": "code",
   "execution_count": null,
   "metadata": {},
   "outputs": [],
   "source": [
    "ypredict[1]"
   ]
  }
 ],
 "metadata": {
  "kernelspec": {
   "display_name": "Python 3",
   "language": "python",
   "name": "python3"
  },
  "language_info": {
   "codemirror_mode": {
    "name": "ipython",
    "version": 3
   },
   "file_extension": ".py",
   "mimetype": "text/x-python",
   "name": "python",
   "nbconvert_exporter": "python",
   "pygments_lexer": "ipython3",
   "version": "3.6.5"
  }
 },
 "nbformat": 4,
 "nbformat_minor": 2
}
